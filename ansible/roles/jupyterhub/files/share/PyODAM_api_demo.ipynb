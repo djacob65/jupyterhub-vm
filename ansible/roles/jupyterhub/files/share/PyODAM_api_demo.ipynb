{
 "cells": [
  {
   "cell_type": "markdown",
   "metadata": {},
   "source": [
    "### import the PyODAM module"
   ]
  },
  {
   "cell_type": "code",
   "execution_count": 1,
   "metadata": {},
   "outputs": [],
   "source": [
    "from PyODAM import Odam"
   ]
  },
  {
   "cell_type": "markdown",
   "metadata": {},
   "source": [
    "### Using the API"
   ]
  },
  {
   "cell_type": "code",
   "execution_count": 4,
   "metadata": {},
   "outputs": [
    {
     "data": {
      "text/html": [
       "<div>\n",
       "<style scoped>\n",
       "    .dataframe tbody tr th:only-of-type {\n",
       "        vertical-align: middle;\n",
       "    }\n",
       "\n",
       "    .dataframe tbody tr th {\n",
       "        vertical-align: top;\n",
       "    }\n",
       "\n",
       "    .dataframe thead th {\n",
       "        text-align: right;\n",
       "    }\n",
       "</style>\n",
       "<table border=\"1\" class=\"dataframe\">\n",
       "  <thead>\n",
       "    <tr style=\"text-align: right;\">\n",
       "      <th></th>\n",
       "      <th>index</th>\n",
       "      <th>LinkID</th>\n",
       "      <th>Subset</th>\n",
       "      <th>Identifier</th>\n",
       "      <th>Description</th>\n",
       "    </tr>\n",
       "  </thead>\n",
       "  <tbody>\n",
       "    <tr>\n",
       "      <td>0</td>\n",
       "      <td>1</td>\n",
       "      <td>0</td>\n",
       "      <td>plants</td>\n",
       "      <td>PlantID</td>\n",
       "      <td>Plant features</td>\n",
       "    </tr>\n",
       "    <tr>\n",
       "      <td>1</td>\n",
       "      <td>2</td>\n",
       "      <td>1</td>\n",
       "      <td>samples</td>\n",
       "      <td>SampleID</td>\n",
       "      <td>Sample features</td>\n",
       "    </tr>\n",
       "    <tr>\n",
       "      <td>2</td>\n",
       "      <td>3</td>\n",
       "      <td>2</td>\n",
       "      <td>aliquots</td>\n",
       "      <td>AliquotID</td>\n",
       "      <td>Aliquots features</td>\n",
       "    </tr>\n",
       "    <tr>\n",
       "      <td>3</td>\n",
       "      <td>4</td>\n",
       "      <td>3</td>\n",
       "      <td>cellwall_metabo</td>\n",
       "      <td>AliquotID</td>\n",
       "      <td>Cell wall Compound quantifications</td>\n",
       "    </tr>\n",
       "    <tr>\n",
       "      <td>4</td>\n",
       "      <td>5</td>\n",
       "      <td>3</td>\n",
       "      <td>cellwall_metaboFW</td>\n",
       "      <td>AliquotID</td>\n",
       "      <td>Cell Wall Compound quantifications (FW)</td>\n",
       "    </tr>\n",
       "    <tr>\n",
       "      <td>5</td>\n",
       "      <td>6</td>\n",
       "      <td>3</td>\n",
       "      <td>activome</td>\n",
       "      <td>AliquotID</td>\n",
       "      <td>Activome Features</td>\n",
       "    </tr>\n",
       "    <tr>\n",
       "      <td>6</td>\n",
       "      <td>7</td>\n",
       "      <td>2</td>\n",
       "      <td>pools</td>\n",
       "      <td>PoolID</td>\n",
       "      <td>Pools of remaining pools</td>\n",
       "    </tr>\n",
       "    <tr>\n",
       "      <td>7</td>\n",
       "      <td>8</td>\n",
       "      <td>7</td>\n",
       "      <td>qMS_metabo</td>\n",
       "      <td>PoolID</td>\n",
       "      <td>MS Compounds quantification</td>\n",
       "    </tr>\n",
       "    <tr>\n",
       "      <td>8</td>\n",
       "      <td>9</td>\n",
       "      <td>7</td>\n",
       "      <td>qNMR_metabo</td>\n",
       "      <td>PoolID</td>\n",
       "      <td>NMR Compounds quantification</td>\n",
       "    </tr>\n",
       "    <tr>\n",
       "      <td>9</td>\n",
       "      <td>10</td>\n",
       "      <td>3</td>\n",
       "      <td>plato_hexosesP</td>\n",
       "      <td>AliquotID</td>\n",
       "      <td>Hexoses Phosphate</td>\n",
       "    </tr>\n",
       "    <tr>\n",
       "      <td>10</td>\n",
       "      <td>11</td>\n",
       "      <td>3</td>\n",
       "      <td>lipids_AG</td>\n",
       "      <td>AliquotID</td>\n",
       "      <td>Lipids AG</td>\n",
       "    </tr>\n",
       "    <tr>\n",
       "      <td>11</td>\n",
       "      <td>12</td>\n",
       "      <td>3</td>\n",
       "      <td>AminoAcid</td>\n",
       "      <td>AliquotID</td>\n",
       "      <td>Amino Acids</td>\n",
       "    </tr>\n",
       "  </tbody>\n",
       "</table>\n",
       "</div>"
      ],
      "text/plain": [
       "    index  LinkID             Subset Identifier  \\\n",
       "0       1       0             plants    PlantID   \n",
       "1       2       1            samples   SampleID   \n",
       "2       3       2           aliquots  AliquotID   \n",
       "3       4       3    cellwall_metabo  AliquotID   \n",
       "4       5       3  cellwall_metaboFW  AliquotID   \n",
       "5       6       3           activome  AliquotID   \n",
       "6       7       2              pools     PoolID   \n",
       "7       8       7         qMS_metabo     PoolID   \n",
       "8       9       7        qNMR_metabo     PoolID   \n",
       "9      10       3     plato_hexosesP  AliquotID   \n",
       "10     11       3          lipids_AG  AliquotID   \n",
       "11     12       3          AminoAcid  AliquotID   \n",
       "\n",
       "                                Description  \n",
       "0                            Plant features  \n",
       "1                           Sample features  \n",
       "2                         Aliquots features  \n",
       "3        Cell wall Compound quantifications  \n",
       "4   Cell Wall Compound quantifications (FW)  \n",
       "5                         Activome Features  \n",
       "6                  Pools of remaining pools  \n",
       "7               MS Compounds quantification  \n",
       "8              NMR Compounds quantification  \n",
       "9                         Hexoses Phosphate  \n",
       "10                                Lipids AG  \n",
       "11                              Amino Acids  "
      ]
     },
     "execution_count": 4,
     "metadata": {},
     "output_type": "execute_result"
    }
   ],
   "source": [
    "# Get the subset list of a dataset\n",
    "po = Odam('https://pmb-bordeaux.fr','frim1', ssl_verify=True)\n",
    "meta = po.getDataFromODAM()\n",
    "meta[['index', 'LinkID','Subset','Identifier', 'Description']]"
   ]
  },
  {
   "cell_type": "code",
   "execution_count": null,
   "metadata": {},
   "outputs": [],
   "source": [
    "# Get all values of a merged data subsets ( both activome & qNMR_metabofor) the specific 'sample' entry equal to 365\n",
    "subset = 'activome,qNMR_metabo'\n",
    "df = po.getSubsetFromODAM(subset,'sample/365?limit=10')\n",
    "data = df['data']\n",
    "\n",
    "# View all merged subset columns\n",
    "data.columns"
   ]
  },
  {
   "cell_type": "code",
   "execution_count": null,
   "metadata": {},
   "outputs": [],
   "source": [
    "# Convert both data and time in MS Excel format into String\n",
    "data.HarvestDate = po.convertDateToStr(data.HarvestDate)\n",
    "data.HarvestHour = po.convertTimeToStr(data.HarvestHour)\n",
    "data"
   ]
  },
  {
   "cell_type": "code",
   "execution_count": null,
   "metadata": {},
   "outputs": [],
   "source": [
    "# Display the variable list within the 'factor' category of a merged data subset\n",
    "df['factor']"
   ]
  },
  {
   "cell_type": "code",
   "execution_count": null,
   "metadata": {},
   "outputs": [],
   "source": [
    "# Display the variable list within the 'identifier' category of a merged data subset\n",
    "df['identifier']"
   ]
  },
  {
   "cell_type": "code",
   "execution_count": null,
   "metadata": {},
   "outputs": [],
   "source": [
    "# Display the variable list within the 'quantitative' category of a merged data subset\n",
    "quantitative = df['quantitative']\n",
    "quantitative.loc[ 0:10, ]"
   ]
  },
  {
   "cell_type": "code",
   "execution_count": null,
   "metadata": {},
   "outputs": [],
   "source": [
    "# Select the variables from the merged data belongings to the 'activome' data subset\n",
    "data[quantitative[quantitative.Subset=='activome']['Attribute']]"
   ]
  },
  {
   "cell_type": "code",
   "execution_count": null,
   "metadata": {},
   "outputs": [],
   "source": [
    "# Select the variables from the merged data belongings to the 'qNMR_metabo' data subset\n",
    "data[quantitative[quantitative.Subset=='qNMR_metabo']['Attribute']]"
   ]
  },
  {
   "cell_type": "markdown",
   "metadata": {},
   "source": [
    "#### 0ct, 4 2019  - Daniel Jacob INRA UMR 1332 - MetaboHub Bordeaux"
   ]
  },
  {
   "cell_type": "code",
   "execution_count": null,
   "metadata": {},
   "outputs": [],
   "source": []
  }
 ],
 "metadata": {
  "kernel_info": {
   "name": "python3"
  },
  "kernelspec": {
   "display_name": "Python 3",
   "language": "python",
   "name": "python3"
  },
  "language_info": {
   "codemirror_mode": {
    "name": "ipython",
    "version": 3
   },
   "file_extension": ".py",
   "mimetype": "text/x-python",
   "name": "python",
   "nbconvert_exporter": "python",
   "pygments_lexer": "ipython3",
   "version": "3.7.4"
  },
  "nteract": {
   "version": "0.15.0"
  },
  "toc": {
   "base_numbering": 1,
   "nav_menu": {},
   "number_sections": true,
   "sideBar": true,
   "skip_h1_title": false,
   "title_cell": "Table of Contents",
   "title_sidebar": "Contents",
   "toc_cell": false,
   "toc_position": {},
   "toc_section_display": true,
   "toc_window_display": false
  },
  "varInspector": {
   "cols": {
    "lenName": 16,
    "lenType": 16,
    "lenVar": 40
   },
   "kernels_config": {
    "python": {
     "delete_cmd_postfix": "",
     "delete_cmd_prefix": "del ",
     "library": "var_list.py",
     "varRefreshCmd": "print(var_dic_list())"
    },
    "r": {
     "delete_cmd_postfix": ") ",
     "delete_cmd_prefix": "rm(",
     "library": "var_list.r",
     "varRefreshCmd": "cat(var_dic_list()) "
    }
   },
   "types_to_exclude": [
    "module",
    "function",
    "builtin_function_or_method",
    "instance",
    "_Feature"
   ],
   "window_display": false
  }
 },
 "nbformat": 4,
 "nbformat_minor": 2
}
